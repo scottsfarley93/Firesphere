{
 "cells": [
  {
   "cell_type": "code",
   "execution_count": 2,
   "metadata": {
    "collapsed": true
   },
   "outputs": [],
   "source": [
    "import sklearn"
   ]
  },
  {
   "cell_type": "code",
   "execution_count": 3,
   "metadata": {
    "collapsed": true
   },
   "outputs": [],
   "source": [
    "import pandas \n",
    "import matplotlib.pyplot as plt\n",
    "import numpy as np\n",
    "from sklearn.kernel_ridge import KernelRidge\n",
    "from sklearn.model_selection import GridSearchCV\n",
    "from sklearn.gaussian_process import GaussianProcessRegressor\n",
    "from sklearn.gaussian_process.kernels import WhiteKernel, ExpSineSquared\n",
    "from sklearn.model_selection import cross_val_predict\n",
    "from sklearn import linear_model\n",
    "from sklearn.linear_model import BayesianRidge\n",
    "import time"
   ]
  },
  {
   "cell_type": "code",
   "execution_count": 4,
   "metadata": {
    "collapsed": true
   },
   "outputs": [],
   "source": [
    "data = pandas.read_csv(\"./../data/training_data_aug.csv\")"
   ]
  },
  {
   "cell_type": "code",
   "execution_count": 5,
   "metadata": {},
   "outputs": [
    {
     "data": {
      "text/plain": [
       "<matplotlib.collections.PathCollection at 0x106c363d0>"
      ]
     },
     "execution_count": 5,
     "metadata": {},
     "output_type": "execute_result"
    },
    {
     "data": {
      "image/png": "[encoded data removed]",
      "text/plain": [
       "<Figure size 432x288 with 1 Axes>"
      ]
     },
     "metadata": {},
     "output_type": "display_data"
    }
   ],
   "source": [
    "plt.scatter(data.air_temp_set_1_3, data.y)"
   ]
  },
  {
   "cell_type": "code",
   "execution_count": 6,
   "metadata": {
    "collapsed": true
   },
   "outputs": [],
   "source": [
    "y = data['y']\n",
    "\n",
    "del data['y']\n",
    "del data['date_time']\n",
    "X = data\n"
   ]
  },
  {
   "cell_type": "code",
   "execution_count": 7,
   "metadata": {},
   "outputs": [
    {
     "name": "stderr",
     "output_type": "stream",
     "text": [
      "/Users/scottsfarley/Library/Python/2.7/lib/python/site-packages/scipy/linalg/basic.py:1226: RuntimeWarning: internal gelsd driver lwork query error, required iwork dimension not returned. This is likely the result of LAPACK bug 0038, fixed in LAPACK 3.2.2 (released July 21, 2010). Falling back to 'gelss' driver.\n",
      "  warnings.warn(mesg, RuntimeWarning)\n"
     ]
    },
    {
     "data": {
      "text/plain": [
       "LinearRegression(copy_X=True, fit_intercept=True, n_jobs=1, normalize=False)"
      ]
     },
     "execution_count": 7,
     "metadata": {},
     "output_type": "execute_result"
    }
   ],
   "source": [
    "lr = linear_model.LinearRegression()\n",
    "lr.fit(X=X, y=y)\n",
    "\n"
   ]
  },
  {
   "cell_type": "code",
   "execution_count": 9,
   "metadata": {
    "collapsed": true
   },
   "outputs": [],
   "source": [
    "y_hat = lr.predict(X)"
   ]
  },
  {
   "cell_type": "code",
   "execution_count": 10,
   "metadata": {},
   "outputs": [
    {
     "data": {
      "text/plain": [
       "array([17.25754758, 16.06844648, 14.17788148, ..., 19.51321987,\n",
       "       22.73880806, 25.63260438])"
      ]
     },
     "execution_count": 10,
     "metadata": {},
     "output_type": "execute_result"
    }
   ],
   "source": [
    "y_hat\n"
   ]
  },
  {
   "cell_type": "code",
   "execution_count": 11,
   "metadata": {},
   "outputs": [
    {
     "data": {
      "text/plain": [
       "<matplotlib.collections.PathCollection at 0x10d6eb790>"
      ]
     },
     "execution_count": 11,
     "metadata": {},
     "output_type": "execute_result"
    },
    {
     "data": {
      "image/png": "[encoded data removed]",
      "text/plain": [
       "<Figure size 432x288 with 1 Axes>"
      ]
     },
     "metadata": {},
     "output_type": "display_data"
    }
   ],
   "source": [
    "plt.scatter(y, y_hat)"
   ]
  },
  {
   "cell_type": "code",
   "execution_count": 12,
   "metadata": {},
   "outputs": [
    {
     "data": {
      "text/html": [
       "<div>\n",
       "<style scoped>\n",
       "    .dataframe tbody tr th:only-of-type {\n",
       "        vertical-align: middle;\n",
       "    }\n",
       "\n",
       "    .dataframe tbody tr th {\n",
       "        vertical-align: top;\n",
       "    }\n",
       "\n",
       "    .dataframe thead th {\n",
       "        text-align: right;\n",
       "    }\n",
       "</style>\n",
       "<table border=\"1\" class=\"dataframe\">\n",
       "  <thead>\n",
       "    <tr style=\"text-align: right;\">\n",
       "      <th></th>\n",
       "      <th>hour</th>\n",
       "      <th>doy</th>\n",
       "      <th>elevation</th>\n",
       "      <th>latitude</th>\n",
       "      <th>longitude</th>\n",
       "      <th>air_temp_set_1_1</th>\n",
       "      <th>_meta_elevation_1</th>\n",
       "      <th>air_temp_set_1_2</th>\n",
       "      <th>_meta_elevation_2</th>\n",
       "      <th>air_temp_set_1_3</th>\n",
       "      <th>_meta_elevation_3</th>\n",
       "      <th>air_temp_set_1_4</th>\n",
       "      <th>_meta_elevation_4</th>\n",
       "      <th>air_temp_set_1_5</th>\n",
       "      <th>_meta_elevation_5</th>\n",
       "    </tr>\n",
       "  </thead>\n",
       "  <tbody>\n",
       "    <tr>\n",
       "      <th>0</th>\n",
       "      <td>16</td>\n",
       "      <td>213</td>\n",
       "      <td>4383.0</td>\n",
       "      <td>41.48362</td>\n",
       "      <td>-120.5615</td>\n",
       "      <td>13.026667</td>\n",
       "      <td>217.0</td>\n",
       "      <td>11.67</td>\n",
       "      <td>5575.0</td>\n",
       "      <td>14.0750</td>\n",
       "      <td>4080.0</td>\n",
       "      <td>21.11</td>\n",
       "      <td>5053.0</td>\n",
       "      <td>22.685000</td>\n",
       "      <td>430.0</td>\n",
       "    </tr>\n",
       "    <tr>\n",
       "      <th>1</th>\n",
       "      <td>16</td>\n",
       "      <td>214</td>\n",
       "      <td>4383.0</td>\n",
       "      <td>41.48362</td>\n",
       "      <td>-120.5615</td>\n",
       "      <td>13.042857</td>\n",
       "      <td>217.0</td>\n",
       "      <td>6.67</td>\n",
       "      <td>5575.0</td>\n",
       "      <td>14.4825</td>\n",
       "      <td>4080.0</td>\n",
       "      <td>18.89</td>\n",
       "      <td>5053.0</td>\n",
       "      <td>22.591667</td>\n",
       "      <td>430.0</td>\n",
       "    </tr>\n",
       "    <tr>\n",
       "      <th>2</th>\n",
       "      <td>16</td>\n",
       "      <td>215</td>\n",
       "      <td>4383.0</td>\n",
       "      <td>41.48362</td>\n",
       "      <td>-120.5615</td>\n",
       "      <td>13.023077</td>\n",
       "      <td>217.0</td>\n",
       "      <td>4.44</td>\n",
       "      <td>5575.0</td>\n",
       "      <td>12.1000</td>\n",
       "      <td>4080.0</td>\n",
       "      <td>14.44</td>\n",
       "      <td>5053.0</td>\n",
       "      <td>20.091667</td>\n",
       "      <td>430.0</td>\n",
       "    </tr>\n",
       "    <tr>\n",
       "      <th>3</th>\n",
       "      <td>16</td>\n",
       "      <td>216</td>\n",
       "      <td>4383.0</td>\n",
       "      <td>41.48362</td>\n",
       "      <td>-120.5615</td>\n",
       "      <td>12.984615</td>\n",
       "      <td>217.0</td>\n",
       "      <td>6.67</td>\n",
       "      <td>5575.0</td>\n",
       "      <td>12.3500</td>\n",
       "      <td>4080.0</td>\n",
       "      <td>14.44</td>\n",
       "      <td>5053.0</td>\n",
       "      <td>19.536667</td>\n",
       "      <td>430.0</td>\n",
       "    </tr>\n",
       "    <tr>\n",
       "      <th>4</th>\n",
       "      <td>16</td>\n",
       "      <td>217</td>\n",
       "      <td>4383.0</td>\n",
       "      <td>41.48362</td>\n",
       "      <td>-120.5615</td>\n",
       "      <td>13.607692</td>\n",
       "      <td>217.0</td>\n",
       "      <td>3.89</td>\n",
       "      <td>5575.0</td>\n",
       "      <td>10.7500</td>\n",
       "      <td>4080.0</td>\n",
       "      <td>15.56</td>\n",
       "      <td>5053.0</td>\n",
       "      <td>17.130000</td>\n",
       "      <td>430.0</td>\n",
       "    </tr>\n",
       "  </tbody>\n",
       "</table>\n",
       "</div>"
      ],
      "text/plain": [
       "   hour  doy  elevation  latitude  longitude  air_temp_set_1_1  \\\n",
       "0    16  213     4383.0  41.48362  -120.5615         13.026667   \n",
       "1    16  214     4383.0  41.48362  -120.5615         13.042857   \n",
       "2    16  215     4383.0  41.48362  -120.5615         13.023077   \n",
       "3    16  216     4383.0  41.48362  -120.5615         12.984615   \n",
       "4    16  217     4383.0  41.48362  -120.5615         13.607692   \n",
       "\n",
       "   _meta_elevation_1  air_temp_set_1_2  _meta_elevation_2  air_temp_set_1_3  \\\n",
       "0              217.0             11.67             5575.0           14.0750   \n",
       "1              217.0              6.67             5575.0           14.4825   \n",
       "2              217.0              4.44             5575.0           12.1000   \n",
       "3              217.0              6.67             5575.0           12.3500   \n",
       "4              217.0              3.89             5575.0           10.7500   \n",
       "\n",
       "   _meta_elevation_3  air_temp_set_1_4  _meta_elevation_4  air_temp_set_1_5  \\\n",
       "0             4080.0             21.11             5053.0         22.685000   \n",
       "1             4080.0             18.89             5053.0         22.591667   \n",
       "2             4080.0             14.44             5053.0         20.091667   \n",
       "3             4080.0             14.44             5053.0         19.536667   \n",
       "4             4080.0             15.56             5053.0         17.130000   \n",
       "\n",
       "   _meta_elevation_5  \n",
       "0              430.0  \n",
       "1              430.0  \n",
       "2              430.0  \n",
       "3              430.0  \n",
       "4              430.0  "
      ]
     },
     "execution_count": 12,
     "metadata": {},
     "output_type": "execute_result"
    }
   ],
   "source": [
    "X.head()\n"
   ]
  },
  {
   "cell_type": "code",
   "execution_count": 17,
   "metadata": {},
   "outputs": [
    {
     "data": {
      "text/plain": [
       "-319796.8435615445"
      ]
     },
     "execution_count": 17,
     "metadata": {},
     "output_type": "execute_result"
    }
   ],
   "source": []
  },
  {
   "cell_type": "code",
   "execution_count": null,
   "metadata": {
    "collapsed": true
   },
   "outputs": [],
   "source": []
  }
 ],
 "metadata": {
  "kernelspec": {
   "display_name": "Python 2",
   "language": "python",
   "name": "python2"
  },
  "language_info": {
   "codemirror_mode": {
    "name": "ipython",
    "version": 2
   },
   "file_extension": ".py",
   "mimetype": "text/x-python",
   "name": "python",
   "nbconvert_exporter": "python",
   "pygments_lexer": "ipython2",
   "version": "2.7.15"
  }
 },
 "nbformat": 4,
 "nbformat_minor": 2
}
